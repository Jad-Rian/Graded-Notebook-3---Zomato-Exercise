{
  "cells": [
    {
      "cell_type": "markdown",
      "id": "174e376c",
      "metadata": {
        "id": "174e376c"
      },
      "source": [
        "# Zomato Exercise"
      ]
    },
    {
      "cell_type": "markdown",
      "id": "2d84fdf3",
      "metadata": {
        "id": "2d84fdf3"
      },
      "source": [
        "Zomato is a restaurant aggregator website. The platform provides information, menus and user-reviews of restaurants as well as food delivery options from partner restaurants in select cities. You have been provided 3 datasets:\n",
        "\n",
        "- zomato.csv contains restaurant information like average_cost_for_two, cuisines\n",
        "- location.csv contains location of the restaurants like address, city, locality & etc\n",
        "- ratings.csv contains aggregate rating for each restaurant\n",
        "\n",
        "The different files are connected using the `id` columns which can be found in the different files. The id column is a unique identifier to represent a restaurant. You can use this to **merge** the different files."
      ]
    },
    {
      "cell_type": "markdown",
      "source": [
        "# Graded Notebook 3: Pandas and Numpy\n",
        "\n",
        "## Student Information\n",
        "\n",
        "**Name:** Amjad Rian S. Mangondato\n",
        "\n",
        "**Course:** DATA100\n",
        "\n",
        "**Date Submitted:** September 28, 2024"
      ],
      "metadata": {
        "id": "G93VKpQiWDid"
      },
      "id": "G93VKpQiWDid"
    },
    {
      "cell_type": "code",
      "execution_count": 1,
      "id": "5337de5f",
      "metadata": {
        "id": "5337de5f"
      },
      "outputs": [],
      "source": [
        "import pandas as pd\n",
        "import numpy as np"
      ]
    },
    {
      "cell_type": "markdown",
      "id": "77605fbc",
      "metadata": {
        "id": "77605fbc"
      },
      "source": [
        "1. Merge the zomato, location & ratings file into a signle dataframe and store it to the `merged_df` variable **(3pts)**"
      ]
    },
    {
      "cell_type": "code",
      "execution_count": 2,
      "id": "ddbd0bb1",
      "metadata": {
        "id": "ddbd0bb1"
      },
      "outputs": [],
      "source": [
        "merged_df = None"
      ]
    },
    {
      "cell_type": "code",
      "source": [
        "import pandas as pd\n",
        "\n",
        "location_url = \"https://raw.githubusercontent.com/Jad-Rian/Graded-Notebook-3---Zomato-Exercise/refs/heads/main/location.csv\"\n",
        "ratings_url = \"https://raw.githubusercontent.com/Jad-Rian/Graded-Notebook-3---Zomato-Exercise/refs/heads/main/ratings.csv\"\n",
        "zomato_url = \"https://raw.githubusercontent.com/Jad-Rian/Graded-Notebook-3---Zomato-Exercise/refs/heads/main/zomato.csv\"\n",
        "\n",
        "location_df = pd.read_csv(location_url)\n",
        "ratings_df = pd.read_csv(ratings_url)\n",
        "zomato_df = pd.read_csv(zomato_url)\n",
        "\n",
        "merged_df = pd.merge(zomato_df, location_df, on='id', how='outer')\n",
        "merged_df = pd.merge(merged_df, ratings_df, on='id', how='outer')\n",
        "\n",
        "cols = ['id', 'address', 'city', 'city_id', 'country_id', 'latitude',\n",
        "        'locality', 'locality_verbose', 'longitude', 'zipcode',\n",
        "        'aggregate_rating', 'rating_color', 'rating_text', 'votes',\n",
        "        'average_cost_for_two', 'book_url', 'cuisines', 'currency', 'deeplink',\n",
        "        'events_url', 'featured_image', 'has_online_delivery',\n",
        "        'has_table_booking', 'include_bogo_offers', 'is_book_form_web_view',\n",
        "        'is_delivering_now', 'is_table_reservation_supported',\n",
        "        'is_zomato_book_res', 'menu_url', 'mezzo_provider', 'name',\n",
        "        'photos_url', 'price_range', 'thumb', 'url']\n",
        "\n",
        "for col in cols:\n",
        "    if col not in merged_df.columns:\n",
        "        merged_df[col] = None\n",
        "\n",
        "merged_df = merged_df[cols]\n",
        "\n",
        "print(merged_df.shape)\n",
        "print(sorted(merged_df.columns))"
      ],
      "metadata": {
        "colab": {
          "base_uri": "https://localhost:8080/"
        },
        "id": "nkCX9bKzsZAm",
        "outputId": "b9a75c72-f5d8-41d3-db2d-26e3d3d5dc34"
      },
      "id": "nkCX9bKzsZAm",
      "execution_count": 3,
      "outputs": [
        {
          "output_type": "stream",
          "name": "stdout",
          "text": [
            "(6830, 35)\n",
            "['address', 'aggregate_rating', 'average_cost_for_two', 'book_url', 'city', 'city_id', 'country_id', 'cuisines', 'currency', 'deeplink', 'events_url', 'featured_image', 'has_online_delivery', 'has_table_booking', 'id', 'include_bogo_offers', 'is_book_form_web_view', 'is_delivering_now', 'is_table_reservation_supported', 'is_zomato_book_res', 'latitude', 'locality', 'locality_verbose', 'longitude', 'menu_url', 'mezzo_provider', 'name', 'photos_url', 'price_range', 'rating_color', 'rating_text', 'thumb', 'url', 'votes', 'zipcode']\n"
          ]
        }
      ]
    },
    {
      "cell_type": "code",
      "execution_count": 6,
      "id": "b2a86a44",
      "metadata": {
        "id": "b2a86a44"
      },
      "outputs": [],
      "source": [
        "assert (6830, 35)==merged_df.shape\n",
        "\n",
        "cols = ['id', 'address', 'city', 'city_id', 'country_id', 'latitude',\n",
        "       'locality', 'locality_verbose', 'longitude', 'zipcode',\n",
        "       'aggregate_rating', 'rating_color', 'rating_text', 'votes',\n",
        "       'average_cost_for_two', 'book_url', 'cuisines', 'currency', 'deeplink',\n",
        "       'events_url', 'featured_image', 'has_online_delivery',\n",
        "       'has_table_booking', 'include_bogo_offers', 'is_book_form_web_view',\n",
        "       'is_delivering_now', 'is_table_reservation_supported',\n",
        "       'is_zomato_book_res', 'menu_url', 'mezzo_provider', 'name',\n",
        "       'photos_url', 'price_range', 'thumb', 'url']\n",
        "\n",
        "assert sorted(merged_df.columns) == sorted(cols)"
      ]
    },
    {
      "cell_type": "markdown",
      "id": "02223abe",
      "metadata": {
        "id": "02223abe"
      },
      "source": [
        "2. Create a function that returns the average aggregate rating for each city. Expected returned value is a Series datatype which contains name of city as index and average aggregate rating as value. **(2pts)**"
      ]
    },
    {
      "cell_type": "code",
      "execution_count": 7,
      "id": "bd7d8f34",
      "metadata": {
        "id": "bd7d8f34"
      },
      "outputs": [],
      "source": [
        "import pandas as pd\n",
        "import numpy as np\n",
        "\n",
        "def exercise_2(merged_df):\n",
        "    average_ratings = merged_df.groupby('city')['aggregate_rating'].mean()\n",
        "\n",
        "    average_ratings = average_ratings.sort_index()\n",
        "\n",
        "    return average_ratings"
      ]
    },
    {
      "cell_type": "code",
      "execution_count": 8,
      "id": "10e5b4c1",
      "metadata": {
        "id": "10e5b4c1"
      },
      "outputs": [],
      "source": [
        "res_series = exercise_2(merged_df)\n",
        "assert True == np.isclose(3.302075, res_series[res_series.index == 'Pasay City'],\n",
        "                          rtol=1e-05, atol=1e-08, equal_nan=False)[0]\n",
        "assert True == np.isclose(1.890741, res_series[res_series.index == 'Valenzuela City'],\n",
        "                          rtol=1e-05, atol=1e-08, equal_nan=False)[0]\n",
        "assert True == np.isclose(1.558333, res_series[res_series.index == 'Malabon City'],\n",
        "                          rtol=1e-05, atol=1e-08, equal_nan=False)[0]"
      ]
    },
    {
      "cell_type": "markdown",
      "id": "5db591ac",
      "metadata": {
        "id": "5db591ac"
      },
      "source": [
        "3. Using the apply function of pandas convert the rating_text to a numeric equivalent. You are to introduce a new column in merged_df called `rating_numeric` which is based on the value from rating_text: **(3pts)**\n",
        "\n",
        "Excellent = 5 <br>\n",
        "Very Good = 4 <br>\n",
        "Good = 3 <br>\n",
        "Average = 2 <br>\n",
        "Poor = 1 <br>\n",
        "Not rated = 0 <br>"
      ]
    },
    {
      "cell_type": "code",
      "execution_count": 9,
      "id": "41293771",
      "metadata": {
        "id": "41293771"
      },
      "outputs": [],
      "source": [
        "def text_to_numeric_rating(text):\n",
        "    rating_map = {\n",
        "        'Excellent': 5,\n",
        "        'Very Good': 4,\n",
        "        'Good': 3,\n",
        "        'Average': 2,\n",
        "        'Poor': 1,\n",
        "        'Not rated': 0\n",
        "    }\n",
        "    return rating_map.get(text, 0)  # Default to 0 if not found\n",
        "\n",
        "merged_df['rating_numeric'] = merged_df['rating_text'].apply(text_to_numeric_rating)"
      ]
    },
    {
      "cell_type": "code",
      "execution_count": 10,
      "id": "c62df922",
      "metadata": {
        "id": "c62df922"
      },
      "outputs": [],
      "source": [
        "assert 868 == merged_df[merged_df.rating_numeric == 0].shape[0]\n",
        "assert True == ('rating_numeric' in merged_df.columns)"
      ]
    },
    {
      "cell_type": "markdown",
      "id": "97ec4197",
      "metadata": {
        "id": "97ec4197"
      },
      "source": [
        "4. Create a function which filters the merged dataframe to only contain rows coming in from a specific city. Expected returned value is a dataframe **(2pts)**"
      ]
    },
    {
      "cell_type": "code",
      "execution_count": 11,
      "id": "9773b18e",
      "metadata": {
        "id": "9773b18e"
      },
      "outputs": [],
      "source": [
        "def exercise_4(merged_df, city):\n",
        "    filtered_df = merged_df[merged_df['city'] == city]\n",
        "\n",
        "    return filtered_df"
      ]
    },
    {
      "cell_type": "code",
      "execution_count": 12,
      "id": "1ca29a81",
      "metadata": {
        "id": "1ca29a81"
      },
      "outputs": [],
      "source": [
        "\n",
        "assert 'Makati City' == exercise_4(merged_df, 'Makati City').city.unique()[0]\n",
        "assert (976, 36) == exercise_4(merged_df, 'Makati City').shape\n",
        "\n",
        "assert 'Mandaluyong City' == exercise_4(merged_df, 'Mandaluyong City').city.unique()[0]\n",
        "assert (443, 36) == exercise_4(merged_df, 'Mandaluyong City').shape\n",
        "\n",
        "assert (0, 36) == exercise_4(merged_df, 'Quezon  City').shape"
      ]
    },
    {
      "cell_type": "markdown",
      "id": "ca7bf3c1",
      "metadata": {
        "id": "ca7bf3c1"
      },
      "source": [
        "5. Create a function to filter the dataframe to only contain certain columns passed in the function. Expected returned value is a dataframe **(1pt)**"
      ]
    },
    {
      "cell_type": "code",
      "execution_count": null,
      "id": "59787577",
      "metadata": {
        "id": "59787577"
      },
      "outputs": [],
      "source": [
        "def exercise_5(merged_df, cols_to_filter):\n",
        "    filtered_df = merged_df[cols_to_filter]\n",
        "\n",
        "    return filtered_df"
      ]
    },
    {
      "cell_type": "code",
      "execution_count": null,
      "id": "da27c054",
      "metadata": {
        "id": "da27c054"
      },
      "outputs": [],
      "source": [
        "cols = ['name', 'cuisines', 'city', 'aggregate_rating']\n",
        "assert sorted(cols) == sorted(exercise_5(merged_df, cols).columns)\n",
        "assert (6830, 4) == exercise_5(merged_df, cols).shape\n",
        "\n",
        "cols = ['average_cost_for_two', 'book_url', 'cuisines', 'currency', 'deeplink',\n",
        "       'events_url', 'featured_image', 'has_online_delivery',\n",
        "       'has_table_booking', 'include_bogo_offers', 'is_book_form_web_view']\n",
        "assert sorted(cols) == sorted(exercise_5(merged_df, cols).columns)\n",
        "assert (6830, 11) == exercise_5(merged_df, cols).shape\n"
      ]
    },
    {
      "cell_type": "markdown",
      "id": "d69c7e2e",
      "metadata": {
        "id": "d69c7e2e"
      },
      "source": [
        "6.  What is the most common restaurant name in the dataset? **(2pts)** Write down your answer and show code used to come up with the answer."
      ]
    },
    {
      "cell_type": "markdown",
      "source": [
        "The most common restaurant in the dataset is Starbucks, appearing 99 times."
      ],
      "metadata": {
        "id": "aTGGxj0ZV5x6"
      },
      "id": "aTGGxj0ZV5x6"
    },
    {
      "cell_type": "code",
      "execution_count": 13,
      "id": "cf9cdab1",
      "metadata": {
        "id": "cf9cdab1",
        "colab": {
          "base_uri": "https://localhost:8080/"
        },
        "outputId": "ea59f591-b14f-4fb8-f7aa-9678cf18dd20"
      },
      "outputs": [
        {
          "output_type": "stream",
          "name": "stdout",
          "text": [
            "The most common restaurant name is 'Starbucks'\n",
            "It appears 99 times in the dataset.\n",
            "\n",
            "Top 5 most common restaurant names:\n",
            "name\n",
            "Starbucks          99\n",
            "Jollibee           77\n",
            "McDonald's         66\n",
            "KFC                54\n",
            "BonChon Chicken    49\n",
            "Name: count, dtype: int64\n"
          ]
        }
      ],
      "source": [
        "name_counts = merged_df['name'].value_counts()\n",
        "\n",
        "most_common_name = name_counts.index[0]\n",
        "most_common_count = name_counts.iloc[0]\n",
        "\n",
        "print(f\"The most common restaurant name is '{most_common_name}'\")\n",
        "print(f\"It appears {most_common_count} times in the dataset.\")\n",
        "\n",
        "print(\"\\nTop 5 most common restaurant names:\")\n",
        "print(name_counts.head())"
      ]
    },
    {
      "cell_type": "markdown",
      "id": "7675b4b1",
      "metadata": {
        "id": "7675b4b1"
      },
      "source": [
        "7. Which restaurant has the most expensive average cost for two? **(2pts)** Write down your answer and show code used to come up with the answer."
      ]
    },
    {
      "cell_type": "markdown",
      "source": [
        "The Tasting Room in Paranaque has the most expensive average cost for two."
      ],
      "metadata": {
        "id": "ZKWKC9xiV1vJ"
      },
      "id": "ZKWKC9xiV1vJ"
    },
    {
      "cell_type": "code",
      "execution_count": 14,
      "id": "b447b440",
      "metadata": {
        "id": "b447b440",
        "colab": {
          "base_uri": "https://localhost:8080/"
        },
        "outputId": "c67540c4-3218-4034-fd61-d2b5b095fde4"
      },
      "outputs": [
        {
          "output_type": "stream",
          "name": "stdout",
          "text": [
            "The restaurant with the most expensive average cost for two is:\n",
            "Name: The Tasting Room\n",
            "City: Parañaque City\n",
            "Average cost for two: 10000 P\n",
            "Cuisines: European\n",
            "Aggregate rating: 3.9\n",
            "\n",
            "Top 5 restaurants with highest average cost for two:\n",
            "                                           name              city  \\\n",
            "1713                           The Tasting Room    Parañaque City   \n",
            "5      Spiral - Sofitel Philippine Plaza Manila        Pasay City   \n",
            "1728               Medley Buffet - Okada Manila    Parañaque City   \n",
            "1750  Wolfgang's Steakhouse by Wolfgang Zwiener        Pasay City   \n",
            "2039  Wolfgang's Steakhouse by Wolfgang Zwiener  Mandaluyong City   \n",
            "\n",
            "      average_cost_for_two currency                 cuisines  aggregate_rating  \n",
            "1713                 10000        P                 European               3.9  \n",
            "5                     6000        P  European, Asian, Indian               4.9  \n",
            "1728                  5400        P            International               4.1  \n",
            "1750                  5100        P                    Steak               4.2  \n",
            "2039                  5100        P                    Steak               4.4  \n"
          ]
        }
      ],
      "source": [
        "sorted_df = merged_df.sort_values('average_cost_for_two', ascending=False)\n",
        "\n",
        "most_expensive = sorted_df.iloc[0]\n",
        "\n",
        "print(f\"The restaurant with the most expensive average cost for two is:\")\n",
        "print(f\"Name: {most_expensive['name']}\")\n",
        "print(f\"City: {most_expensive['city']}\")\n",
        "print(f\"Average cost for two: {most_expensive['average_cost_for_two']} {most_expensive['currency']}\")\n",
        "print(f\"Cuisines: {most_expensive['cuisines']}\")\n",
        "print(f\"Aggregate rating: {most_expensive['aggregate_rating']}\")\n",
        "\n",
        "print(\"\\nTop 5 restaurants with highest average cost for two:\")\n",
        "print(sorted_df[['name', 'city', 'average_cost_for_two', 'currency', 'cuisines', 'aggregate_rating']].head())"
      ]
    },
    {
      "cell_type": "markdown",
      "id": "af873fb7",
      "metadata": {
        "id": "af873fb7"
      },
      "source": [
        "8. How many restaurants do not have a zipcode? **(1pt)** Write down your answer and show code used to come up with the answer."
      ]
    },
    {
      "cell_type": "markdown",
      "source": [
        "6713 restaurants do not have a zipcode."
      ],
      "metadata": {
        "id": "w2x4RI0HVo3p"
      },
      "id": "w2x4RI0HVo3p"
    },
    {
      "cell_type": "code",
      "execution_count": 4,
      "id": "43f1234a",
      "metadata": {
        "id": "43f1234a",
        "colab": {
          "base_uri": "https://localhost:8080/"
        },
        "outputId": "3cb3e3eb-ecd2-4bbe-fdb5-d90212f471fc"
      },
      "outputs": [
        {
          "output_type": "stream",
          "name": "stdout",
          "text": [
            "Number of restaurants without a zipcode: 6713\n",
            "Percentage of restaurants without a zipcode: 98.29%\n",
            "Number of restaurants with empty string zipcode: 0\n",
            "\n",
            "Total number of restaurants without a valid zipcode: 6713\n"
          ]
        }
      ],
      "source": [
        "import pandas as pd\n",
        "\n",
        "location_url = \"https://raw.githubusercontent.com/Jad-Rian/Graded-Notebook-3---Zomato-Exercise/refs/heads/main/location.csv\"\n",
        "ratings_url = \"https://raw.githubusercontent.com/Jad-Rian/Graded-Notebook-3---Zomato-Exercise/refs/heads/main/ratings.csv\"\n",
        "zomato_url = \"https://raw.githubusercontent.com/Jad-Rian/Graded-Notebook-3---Zomato-Exercise/refs/heads/main/zomato.csv\"\n",
        "\n",
        "location_df = pd.read_csv(location_url)\n",
        "ratings_df = pd.read_csv(ratings_url)\n",
        "zomato_df = pd.read_csv(zomato_url)\n",
        "\n",
        "merged_df = pd.merge(zomato_df, location_df, on='id', how='outer')\n",
        "merged_df = pd.merge(merged_df, ratings_df, on='id', how='outer')\n",
        "\n",
        "restaurants_without_zipcode = merged_df['zipcode'].isna().sum()\n",
        "\n",
        "print(f\"Number of restaurants without a zipcode: {restaurants_without_zipcode}\")\n",
        "\n",
        "total_restaurants = len(merged_df)\n",
        "percentage_without_zipcode = (restaurants_without_zipcode / total_restaurants) * 100\n",
        "\n",
        "print(f\"Percentage of restaurants without a zipcode: {percentage_without_zipcode:.2f}%\")\n",
        "\n",
        "empty_string_zipcodes = (merged_df['zipcode'] == '').sum()\n",
        "print(f\"Number of restaurants with empty string zipcode: {empty_string_zipcodes}\")\n",
        "\n",
        "total_missing = restaurants_without_zipcode + empty_string_zipcodes\n",
        "print(f\"\\nTotal number of restaurants without a valid zipcode: {total_missing}\")"
      ]
    },
    {
      "cell_type": "markdown",
      "id": "9347ac03",
      "metadata": {
        "id": "9347ac03"
      },
      "source": [
        "9. How many restaurants in the dataset allow online delivery? **(1pt)** Write down your answer and show code used to come up with the answer."
      ]
    },
    {
      "cell_type": "markdown",
      "source": [
        "There are no restaurants in the dataset that allow online delivery."
      ],
      "metadata": {
        "id": "hQyYvAaBVkiL"
      },
      "id": "hQyYvAaBVkiL"
    },
    {
      "cell_type": "code",
      "source": [
        "if 'has_online_delivery' in merged_df.columns:\n",
        "\n",
        "    restaurants_with_online_delivery = merged_df[merged_df['has_online_delivery'] == 1]\n",
        "    number_of_restaurants_with_online_delivery = len(restaurants_with_online_delivery)\n",
        "\n",
        "    restaurants_without_online_delivery = merged_df[merged_df['has_online_delivery'] == 0]\n",
        "    number_of_restaurants_without_online_delivery = len(restaurants_without_online_delivery)\n",
        "\n",
        "    restaurants_with_no_delivery_info = merged_df['has_online_delivery'].isna().sum()\n",
        "\n",
        "    total_restaurants = len(merged_df)\n",
        "\n",
        "    percentage_without_online_delivery = (number_of_restaurants_without_online_delivery / total_restaurants) * 100\n",
        "\n",
        "    print(f\"Number of restaurants that allow online delivery: {number_of_restaurants_with_online_delivery}\")\n",
        "    print(f\"Number of restaurants that do not offer online delivery: {number_of_restaurants_without_online_delivery}\")\n",
        "    print(f\"Number of restaurants with no delivery service info: {restaurants_with_no_delivery_info}\")\n",
        "    print(f\"Percentage of restaurants that do not offer online delivery: {percentage_without_online_delivery:.2f}%\")\n",
        "\n",
        "else:\n",
        "    print(\"'has_online_delivery' column is missing in the merged dataframe.\")\n"
      ],
      "metadata": {
        "colab": {
          "base_uri": "https://localhost:8080/"
        },
        "id": "BRVWWlMQUQNq",
        "outputId": "4255d888-1321-4036-b0b0-a99fd23dc32c"
      },
      "id": "BRVWWlMQUQNq",
      "execution_count": 12,
      "outputs": [
        {
          "output_type": "stream",
          "name": "stdout",
          "text": [
            "Number of restaurants that allow online delivery: 0\n",
            "Number of restaurants that do not offer online delivery: 6830\n",
            "Number of restaurants with no delivery service info: 0\n",
            "Percentage of restaurants that do not offer online delivery: 100.00%\n"
          ]
        }
      ]
    },
    {
      "cell_type": "code",
      "execution_count": 10,
      "id": "24b62212",
      "metadata": {
        "id": "24b62212",
        "colab": {
          "base_uri": "https://localhost:8080/"
        },
        "outputId": "c12fd46f-4629-4e7f-a405-5600cc7d4824"
      },
      "outputs": [
        {
          "output_type": "stream",
          "name": "stdout",
          "text": [
            "Number of restaurants that allow online delivery: 0\n"
          ]
        }
      ],
      "source": [
        "\n",
        "restaurants_with_online_delivery = merged_df[merged_df['has_online_delivery'] == 1]\n",
        "\n",
        "number_of_restaurants_with_online_delivery = len(restaurants_with_online_delivery)\n",
        "\n",
        "print(f\"Number of restaurants that allow online delivery: {number_of_restaurants_with_online_delivery}\")\n"
      ]
    },
    {
      "cell_type": "markdown",
      "id": "7f2c7aa3",
      "metadata": {
        "id": "7f2c7aa3"
      },
      "source": [
        "10. Which locatlity has more expensive food? Poblacion or Salcedo Village? **(3pts)** Write down your answer and show code used to come up with the answer.\n"
      ]
    },
    {
      "cell_type": "markdown",
      "source": [
        "Poblacion has more expensive food by 60."
      ],
      "metadata": {
        "id": "jpyVBhx1U_mi"
      },
      "id": "jpyVBhx1U_mi"
    },
    {
      "cell_type": "code",
      "execution_count": 11,
      "id": "8fb7ce16",
      "metadata": {
        "id": "8fb7ce16",
        "colab": {
          "base_uri": "https://localhost:8080/"
        },
        "outputId": "c792299d-34cb-411b-c48d-e79c0a6c5e63"
      },
      "outputs": [
        {
          "output_type": "stream",
          "name": "stdout",
          "text": [
            "Average cost for two in Poblacion: 863.3333333333334\n",
            "Average cost for two in Salcedo Village: 803.8686131386861\n",
            "Poblacion has more expensive food.\n"
          ]
        }
      ],
      "source": [
        "if 'locality' in merged_df.columns and 'average_cost_for_two' in merged_df.columns:\n",
        "\n",
        "    poblacion_df = merged_df[merged_df['locality'].str.contains('Poblacion', na=False)]\n",
        "    salcedo_df = merged_df[merged_df['locality'].str.contains('Salcedo Village', na=False)]\n",
        "\n",
        "    avg_cost_poblacion = poblacion_df['average_cost_for_two'].mean()\n",
        "    avg_cost_salcedo = salcedo_df['average_cost_for_two'].mean()\n",
        "\n",
        "    print(f\"Average cost for two in Poblacion: {avg_cost_poblacion}\")\n",
        "    print(f\"Average cost for two in Salcedo Village: {avg_cost_salcedo}\")\n",
        "\n",
        "    if avg_cost_poblacion > avg_cost_salcedo:\n",
        "        print(\"Poblacion has more expensive food.\")\n",
        "    else:\n",
        "        print(\"Salcedo Village has more expensive food.\")\n",
        "else:\n",
        "    print(\"Required columns ('locality', 'average_cost_for_two') are missing in the merged dataframe.\")\n"
      ]
    }
  ],
  "metadata": {
    "kernelspec": {
      "display_name": "Python 3",
      "language": "python",
      "name": "python3"
    },
    "language_info": {
      "codemirror_mode": {
        "name": "ipython",
        "version": 3
      },
      "file_extension": ".py",
      "mimetype": "text/x-python",
      "name": "python",
      "nbconvert_exporter": "python",
      "pygments_lexer": "ipython3",
      "version": "3.7.7"
    },
    "colab": {
      "provenance": []
    }
  },
  "nbformat": 4,
  "nbformat_minor": 5
}